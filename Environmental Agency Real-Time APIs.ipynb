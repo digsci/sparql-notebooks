{
 "cells": [
  {
   "cell_type": "markdown",
   "metadata": {},
   "source": [
    "### Example uses of SPARQL querying with the Environment Agency Real-Time Flood Management APIs\n",
    "#### It makes use of the OpenLink Virtuoso SPARQL processor for querying the RDF data provided and other SPARQL endpoints to demonstrate  federated queries\n",
    "#### Requires python3 and pip install jupyter sparqlwrapper, folium and the OpenLink Virtuoso sparql processor to be running locally"
   ]
  },
  {
   "cell_type": "markdown",
   "metadata": {},
   "source": [
    "Investigate available properties of the Environment Agency datasets at:<br>\n",
    "http://environment.data.gov.uk/flood-monitoring/id/stations.rdf<br>\n",
    "http://environment.data.gov.uk/flood-monitoring/id/measures.rdf<br>\n",
    "http://environment.data.gov.uk/flood-monitoring/data/readings.rdf<br>\n"
   ]
  },
  {
   "cell_type": "code",
   "execution_count": null,
   "metadata": {
    "collapsed": true
   },
   "outputs": [],
   "source": [
    "from SPARQLWrapper import SPARQLWrapper, JSON\n",
    "\n",
    "sparql_query = \"\"\"\n",
    "PREFIX rt:<http://environment.data.gov.uk/flood-monitoring/def/core/>\n",
    "PREFIX rdfs:<http://www.w3.org/2000/01/rdf-schema#>\n",
    "PREFIX geo:<http://www.w3.org/2003/01/geo/wgs84_pos#>\n",
    "\n",
    "SELECT DISTINCT ?property \n",
    "FROM <http://environment.data.gov.uk/flood-monitoring/id/stations.rdf>\n",
    "#FROM <http://environment.data.gov.uk/flood-monitoring/id/measures.rdf>\n",
    "#FROM <http://environment.data.gov.uk/flood-monitoring/data/readings.rdf>\n",
    "WHERE {\n",
    "  ?s ?property ?o\n",
    "}\n",
    "\"\"\"\n",
    "# Assumes OpenLink Virtuoso sparql endpoint running locally at:\n",
    "sparql_endpoint = \"http://localhost:8890/sparql\"\n",
    "\n",
    "sparql = SPARQLWrapper(sparql_endpoint)\n",
    "sparql.setQuery(sparql_query)\n",
    "sparql.setReturnFormat(JSON)\n",
    "results = sparql.query().convert()\n",
    "for result in results[\"results\"][\"bindings\"]:\n",
    "    print (result[\"property\"][\"value\"])\n"
   ]
  },
  {
   "cell_type": "markdown",
   "metadata": {},
   "source": [
    "Discover all catchment areas in the Environment Agency datasets"
   ]
  },
  {
   "cell_type": "code",
   "execution_count": null,
   "metadata": {
    "collapsed": true
   },
   "outputs": [],
   "source": [
    "from SPARQLWrapper import SPARQLWrapper, JSON\n",
    "\n",
    "sparql_query = \"\"\"\n",
    "PREFIX rt:<http://environment.data.gov.uk/flood-monitoring/def/core/>\n",
    "\n",
    "SELECT DISTINCT ?catchmentName\n",
    "FROM <http://environment.data.gov.uk/flood-monitoring/id/stations.rdf>\n",
    "WHERE {\n",
    "  ?s rt:catchmentName ?catchmentName .\n",
    "}\n",
    "\"\"\"\n",
    "\n",
    "# Assumes OpenLink Virtuoso sparql endpoint running locally at:\n",
    "sparql_endpoint = \"http://localhost:8890/sparql\"\n",
    "\n",
    "sparql = SPARQLWrapper(sparql_endpoint)\n",
    "sparql.setQuery(sparql_query)\n",
    "sparql.setReturnFormat(JSON)\n",
    "results = sparql.query().convert()\n",
    "for result in results[\"results\"][\"bindings\"]:\n",
    "    print (result[\"catchmentName\"][\"value\"])\n"
   ]
  },
  {
   "cell_type": "markdown",
   "metadata": {},
   "source": [
    "Discover all monitoring stations in \"Lune and Wyre\" catchment area along with their latest readings (of any type)"
   ]
  },
  {
   "cell_type": "code",
   "execution_count": null,
   "metadata": {
    "collapsed": true
   },
   "outputs": [],
   "source": [
    "from SPARQLWrapper import SPARQLWrapper, JSON\n",
    "\n",
    "sparql_query = \"\"\"\n",
    "PREFIX rt:<http://environment.data.gov.uk/flood-monitoring/def/core/>\n",
    "PREFIX rdfs:<http://www.w3.org/2000/01/rdf-schema#>\n",
    "PREFIX geo:<http://www.w3.org/2003/01/geo/wgs84_pos#>\n",
    "\n",
    "SELECT ?label ?town ?lon ?lat ?s ?measures ?latestReading ?latestValue\n",
    "FROM <http://environment.data.gov.uk/flood-monitoring/id/stations.rdf>\n",
    "FROM <http://environment.data.gov.uk/flood-monitoring/id/measures.rdf>\n",
    "FROM <http://environment.data.gov.uk/flood-monitoring/data/readings.rdf>\n",
    "WHERE {\n",
    "  ?s rt:town ?town ;\n",
    "     geo:long ?lon ;\n",
    "     geo:lat ?lat ;\n",
    "     rt:catchmentName \"Lune and Wyre\" ; \n",
    "     rdfs:label ?label ;\n",
    "     rt:measures ?measures . \n",
    "     ?measures rt:latestReading ?latestReading . \n",
    "     ?latestReading rt:value ?latestValue .\n",
    "}\n",
    "\"\"\"\n",
    "\n",
    "# Assumes OpenLink Virtuoso sparql endpoint running locally at:\n",
    "sparql_endpoint = \"http://localhost:8890/sparql\"\n",
    "\n",
    "sparql = SPARQLWrapper(sparql_endpoint)\n",
    "sparql.setQuery(sparql_query)\n",
    "sparql.setReturnFormat(JSON)\n",
    "results = sparql.query().convert()\n",
    "for result in results[\"results\"][\"bindings\"]:\n",
    "    print(\"{}, {}, {} {}, {}\".format(result[\"label\"][\"value\"],\n",
    "                                 result[\"town\"][\"value\"],\n",
    "                                 result[\"lon\"][\"value\"],\n",
    "                                 result[\"lat\"][\"value\"],\n",
    "                                 result[\"latestValue\"][\"value\"]))\n"
   ]
  },
  {
   "cell_type": "markdown",
   "metadata": {},
   "source": [
    "Discover all monitoring stations in \"Eden and Esk\" catchment area along with their latest readings (of any type)"
   ]
  },
  {
   "cell_type": "code",
   "execution_count": null,
   "metadata": {
    "collapsed": true
   },
   "outputs": [],
   "source": [
    "from SPARQLWrapper import SPARQLWrapper, JSON\n",
    "\n",
    "sparql_query = \"\"\"\n",
    "PREFIX rt:<http://environment.data.gov.uk/flood-monitoring/def/core/>\n",
    "PREFIX rdfs:<http://www.w3.org/2000/01/rdf-schema#>\n",
    "PREFIX geo:<http://www.w3.org/2003/01/geo/wgs84_pos#>\n",
    "\n",
    "SELECT ?label ?town ?lon ?lat ?s ?measures ?latestReading ?latestValue\n",
    "FROM <http://environment.data.gov.uk/flood-monitoring/id/stations.rdf>\n",
    "FROM <http://environment.data.gov.uk/flood-monitoring/id/measures.rdf>\n",
    "FROM <http://environment.data.gov.uk/flood-monitoring/data/readings.rdf>\n",
    "WHERE {\n",
    "  ?s rt:town ?town ;\n",
    "     geo:long ?lon ;\n",
    "     geo:lat ?lat ;\n",
    "     rt:catchmentName \"Eden and Esk\" ; \n",
    "     rdfs:label ?label ;\n",
    "     rt:measures ?measures . \n",
    "     ?measures rt:latestReading ?latestReading . \n",
    "     ?latestReading rt:value ?latestValue .\n",
    "}\n",
    "\"\"\"\n",
    "\n",
    "# Assumes OpenLink Virtuoso sparql endpoint running locally at:\n",
    "sparql_endpoint = \"http://localhost:8890/sparql\"\n",
    "\n",
    "sparql = SPARQLWrapper(sparql_endpoint)\n",
    "sparql.setQuery(sparql_query)\n",
    "sparql.setReturnFormat(JSON)\n",
    "results = sparql.query().convert()\n",
    "\n",
    "for result in results[\"results\"][\"bindings\"]:\n",
    "    print(\"{}, {}, {} {}, {}\".format(result[\"label\"][\"value\"],\n",
    "                                 result[\"town\"][\"value\"],\n",
    "                                 result[\"lon\"][\"value\"],\n",
    "                                 result[\"lat\"][\"value\"],\n",
    "                                 result[\"latestValue\"][\"value\"]))\n",
    "\n"
   ]
  },
  {
   "cell_type": "markdown",
   "metadata": {},
   "source": [
    "Discover all stations in \"Lune and Wyre\" catchment and plot locations on an OSM map using the Folium python package"
   ]
  },
  {
   "cell_type": "code",
   "execution_count": null,
   "metadata": {
    "collapsed": true
   },
   "outputs": [],
   "source": [
    "from SPARQLWrapper import SPARQLWrapper, JSON\n",
    "import folium\n",
    "\n",
    "sparql_query = \"\"\"\n",
    "PREFIX rt:<http://environment.data.gov.uk/flood-monitoring/def/core/>\n",
    "PREFIX rdfs:<http://www.w3.org/2000/01/rdf-schema#>\n",
    "PREFIX geo:<http://www.w3.org/2003/01/geo/wgs84_pos#>\n",
    "\n",
    "SELECT ?label ?town ?lon ?lat ?s ?measures ?latestReading ?latestValue\n",
    "FROM <http://environment.data.gov.uk/flood-monitoring/id/stations.rdf>\n",
    "FROM <http://environment.data.gov.uk/flood-monitoring/id/measures.rdf>\n",
    "FROM <http://environment.data.gov.uk/flood-monitoring/data/readings.rdf>\n",
    "WHERE {\n",
    "  ?s rt:town ?town ;\n",
    "     geo:long ?lon ;\n",
    "     geo:lat ?lat ;\n",
    "     rt:catchmentName \"Lune and Wyre\" ; \n",
    "     rdfs:label ?label ;\n",
    "     rt:measures ?measures . \n",
    "     ?measures rt:latestReading ?latestReading . \n",
    "     ?latestReading rt:value ?latestValue .\n",
    "}\n",
    "\"\"\"\n",
    "\n",
    "# Assumes OpenLink Virtuoso sparql endpoint running locally at:\n",
    "sparql_endpoint = \"http://localhost:8890/sparql\"\n",
    "\n",
    "sparql = SPARQLWrapper(sparql_endpoint)\n",
    "sparql.setQuery(sparql_query)\n",
    "sparql.setReturnFormat(JSON)\n",
    "results = sparql.query().convert()\n",
    "\n",
    "map_osm = folium.Map(location=[54.045675,-2.8009287])\n",
    "for result in results[\"results\"][\"bindings\"]:\n",
    "    folium.Marker(location=[result[\"lat\"][\"value\"],\n",
    "                  result[\"lon\"][\"value\"]], \n",
    "                  popup=result[\"label\"][\"value\"]).add_to(map_osm)\n",
    "map_osm\n"
   ]
  },
  {
   "cell_type": "markdown",
   "metadata": {},
   "source": [
    "Draw boundary polygon on map to discover all monitoring stations within the boundary shape using the Environment Agency API endpoints. Uses the Ipyleaflet python package"
   ]
  },
  {
   "cell_type": "code",
   "execution_count": null,
   "metadata": {},
   "outputs": [],
   "source": [
    "from SPARQLWrapper import SPARQLWrapper, JSON\n",
    "from ipyleaflet import (\n",
    "    Map,\n",
    "    Marker,\n",
    "    TileLayer, ImageOverlay,\n",
    "    Polyline, Polygon, Rectangle, Circle, CircleMarker,\n",
    "    GeoJSON,\n",
    "    DrawControl\n",
    ")\n",
    "from traitlets import link\n",
    "\n",
    "def wkt_convert(c):\n",
    "    return str(c[0]) + \" \" + str(c[1])\n",
    "\n",
    "def handle_draw(self, action, geo_json):\n",
    "    global m\n",
    "    coords = geo_json['geometry']['coordinates'][0]\n",
    "    wkt = \"POLYGON((%s \" % ', '.join(map(wkt_convert, coords)) + \"))\"\n",
    "    sparql_query = \"\"\"\n",
    "            PREFIX rt:<http://environment.data.gov.uk/flood-monitoring/def/core/>\n",
    "            PREFIX rdfs:<http://www.w3.org/2000/01/rdf-schema#>\n",
    "            PREFIX geo:<http://www.w3.org/2003/01/geo/wgs84_pos#>\n",
    "\n",
    "            SELECT ?label ?town ?lon ?lat ?s \n",
    "            FROM <http://environment.data.gov.uk/flood-monitoring/id/stations.rdf>\n",
    "            FROM <http://environment.data.gov.uk/flood-monitoring/id/measures.rdf>\n",
    "            FROM <http://environment.data.gov.uk/flood-monitoring/data/readings.rdf>\n",
    "            WHERE {{\n",
    "                ?s rt:town ?town ;\n",
    "                   geo:long ?lon ;\n",
    "                   geo:lat ?lat ; \n",
    "                   rdfs:label ?label .\n",
    "                 FILTER( bif:st_intersects( bif:st_point(?lon, ?lat), bif:st_geomfromtext({}),0.0)) .\n",
    "            }}\n",
    "    \"\"\".format(\"\\\"{}\\\"\".format(wkt))\n",
    "    \n",
    "    # Assumes OpenLink Virtuoso sparql endpoint running locally at:\n",
    "    sparql_endpoint = \"http://localhost:8890/sparql\"\n",
    "\n",
    "    sparql = SPARQLWrapper(sparql_endpoint)\n",
    "    sparql.setQuery(sparql_query)\n",
    "    sparql.setReturnFormat(JSON)\n",
    "    results = sparql.query().convert()\n",
    "    for result in results[\"results\"][\"bindings\"]:\n",
    "        mark = Marker(location=[result['lat']['value'], result['lon']['value']], title=result['town']['value'])\n",
    "        m.add_layer(mark)\n",
    "\n",
    "center = [54.047186,-2.801706]\n",
    "zoom = 10\n",
    "m = Map(default_tiles=TileLayer(opacity=1.0), center=center, zoom=zoom)\n",
    "dc = DrawControl()\n",
    "dc.on_draw(handle_draw)\n",
    "m.add_control(dc)\n",
    "m"
   ]
  },
  {
   "cell_type": "markdown",
   "metadata": {},
   "source": [
    "Demonstrates a federated query making use of a remote SPARQL endpoint. \n",
    "Discover all dbpedia places within 0.5km of geospatial point and plot on osm map"
   ]
  },
  {
   "cell_type": "code",
   "execution_count": null,
   "metadata": {
    "collapsed": true
   },
   "outputs": [],
   "source": [
    "from SPARQLWrapper import SPARQLWrapper, JSON\n",
    "import folium\n",
    "\n",
    "sparql_query = \"\"\"\n",
    "SELECT DISTINCT ?resource ?label ?long ?lat\n",
    "WHERE \n",
    "{ \n",
    "    SERVICE <http://dbpedia.org/sparql>\n",
    "    {\n",
    "        ?resource geo:geometry ?location ;\n",
    "                  rdfs:label ?label . \n",
    "        FILTER( bif:st_intersects( ?location, bif:st_point(-2.8009287, 54.045675), 0.5)) .\n",
    "        BIND(bif:st_x(?location) AS ?long) .\n",
    "        BIND(bif:st_y(?location) AS ?lat) .\n",
    "    }\n",
    "}\n",
    "\"\"\"\n",
    "\n",
    "# Assumes OpenLink Virtuoso sparql endpoint running locally at:\n",
    "sparql_endpoint = \"http://localhost:8890/sparql\"\n",
    "\n",
    "sparql = SPARQLWrapper(sparql_endpoint)\n",
    "sparql.setQuery(sparql_query)\n",
    "sparql.setReturnFormat(JSON)\n",
    "results = sparql.query().convert()\n",
    "\n",
    "map_osm = folium.Map(location=[54.045675,-2.8009287])\n",
    "for result in results[\"results\"][\"bindings\"]:\n",
    "    folium.Marker(location=[result[\"lat\"][\"value\"],\n",
    "                  result[\"long\"][\"value\"]], \n",
    "                  popup=result[\"label\"][\"value\"]).add_to(map_osm)\n",
    "map_osm\n"
   ]
  },
  {
   "cell_type": "markdown",
   "metadata": {},
   "source": [
    "Demonstrates a federated query making use of a remote SPARQL endpoint. \n",
    "Discover all dbpedia places within a drawn polygon bounding area and plot on osm map"
   ]
  },
  {
   "cell_type": "code",
   "execution_count": null,
   "metadata": {},
   "outputs": [],
   "source": [
    "\n",
    "from SPARQLWrapper import SPARQLWrapper, JSON\n",
    "from ipyleaflet import (\n",
    "    Map,\n",
    "    Marker,\n",
    "    TileLayer, ImageOverlay,\n",
    "    Polyline, Polygon, Rectangle, Circle, CircleMarker,\n",
    "    GeoJSON,\n",
    "    DrawControl\n",
    ")\n",
    "from traitlets import link\n",
    "\n",
    "def wkt_convert(c):\n",
    "    return str(c[0]) + \" \" + str(c[1])\n",
    "\n",
    "def handle_draw(self, action, geo_json):\n",
    "    global m\n",
    "    coords = geo_json['geometry']['coordinates'][0]\n",
    "    wkt = \"POLYGON((%s \" % ', '.join(map(wkt_convert, coords)) + \"))\"\n",
    "    sparql_query = \"\"\"\n",
    "                    SELECT DISTINCT ?resource ?label ?long ?lat\n",
    "                    WHERE \n",
    "                    {{ \n",
    "                        SERVICE <http://dbpedia.org/sparql>\n",
    "                        {{\n",
    "                                ?resource geo:geometry ?location ;\n",
    "                                          rdfs:label ?label . \n",
    "                                FILTER( bif:st_intersects( ?location, bif:st_geomfromtext({}),0.0)) .\n",
    "                                FILTER (lang(?label) = 'en') .\n",
    "                                BIND(bif:st_x(?location) AS ?long) .\n",
    "                                BIND(bif:st_y(?location) AS ?lat) .\n",
    "                        }}\n",
    "                    }}\n",
    "                    \"\"\".format(\"\\\"{}\\\"\".format(wkt))\n",
    "    \n",
    "    # Assumes OpenLink Virtuoso sparql endpoint running locally at:\n",
    "    sparql_endpoint = \"http://localhost:8890/sparql\"\n",
    "\n",
    "    sparql = SPARQLWrapper(sparql_endpoint)\n",
    "    sparql.setQuery(sparql_query)\n",
    "    sparql.setReturnFormat(JSON)\n",
    "    results = sparql.query().convert()\n",
    "    for result in results[\"results\"][\"bindings\"]:\n",
    "        mark = Marker(location=[result['lat']['value'], result['long']['value']], title=result['label']['value'])\n",
    "        m.add_layer(mark)\n",
    "\n",
    "center = [54.047186,-2.801706]\n",
    "zoom = 15\n",
    "m = Map(default_tiles=TileLayer(opacity=1.0), center=center, zoom=zoom)\n",
    "dc = DrawControl()\n",
    "dc.on_draw(handle_draw)\n",
    "m.add_control(dc)\n",
    "m"
   ]
  }
 ],
 "metadata": {
  "kernelspec": {
   "display_name": "Python 3",
   "language": "python",
   "name": "python3"
  },
  "language_info": {
   "codemirror_mode": {
    "name": "ipython",
    "version": 3
   },
   "file_extension": ".py",
   "mimetype": "text/x-python",
   "name": "python",
   "nbconvert_exporter": "python",
   "pygments_lexer": "ipython3",
   "version": "3.6.1"
  }
 },
 "nbformat": 4,
 "nbformat_minor": 2
}
