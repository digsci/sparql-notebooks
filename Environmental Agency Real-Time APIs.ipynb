{
 "cells": [
  {
   "cell_type": "markdown",
   "metadata": {},
   "source": [
    "### Example uses of SPARQL querying with the Environment Agency Real-Time Flood Management APIs\n",
    "#### It makes use of the OpenLink Virtuoso SPARQL processor for querying the RDF data provided and other SPARQL endpoints to demonstrate  federated queries\n",
    "#### Requires python3 and pip install jupyter sparqlwrapper, folium and the OpenLink Virtuoso sparql processor to be running locally"
   ]
  },
  {
   "cell_type": "markdown",
   "metadata": {},
   "source": [
    "Investigate available properties of the Environment Agency datasets at:<br>\n",
    "http://environment.data.gov.uk/flood-monitoring/id/stations.rdf<br>\n",
    "http://environment.data.gov.uk/flood-monitoring/id/measures.rdf<br>\n",
    "http://environment.data.gov.uk/flood-monitoring/data/readings.rdf<br>\n"
   ]
  },
  {
   "cell_type": "code",
   "execution_count": 20,
   "metadata": {
    "collapsed": true
   },
   "outputs": [
    {
     "name": "stdout",
     "output_type": "stream",
     "text": [
      "http://www.w3.org/2000/01/rdf-schema#label\n",
      "http://www.w3.org/1999/02/22-rdf-syntax-ns#first\n",
      "http://www.w3.org/1999/02/22-rdf-syntax-ns#rest\n",
      "http://www.w3.org/2000/01/rdf-schema#comment\n",
      "http://www.w3.org/2002/07/owl#versionInfo\n",
      "http://www.w3.org/2000/01/rdf-schema#seeAlso\n",
      "http://data.ordnancesurvey.co.uk/ontology/spatialrelations/northing\n",
      "http://purl.org/linked-data/api/vocab#items\n",
      "http://www.w3.org/2003/01/geo/wgs84_pos#lat\n",
      "http://www.w3.org/2004/02/skos/core#notation\n",
      "http://data.ordnancesurvey.co.uk/ontology/spatialrelations/easting\n",
      "http://www.w3.org/2003/01/geo/wgs84_pos#long\n",
      "http://purl.org/dc/terms/hasFormat\n",
      "http://purl.org/dc/terms/license\n",
      "http://purl.org/dc/terms/publisher\n",
      "http://environment.data.gov.uk/flood-monitoring/def/core/RLOIid\n",
      "http://environment.data.gov.uk/flood-monitoring/def/core/catchmentName\n",
      "http://environment.data.gov.uk/flood-monitoring/def/core/dateOpened\n",
      "http://environment.data.gov.uk/flood-monitoring/def/core/datumOffset\n",
      "http://environment.data.gov.uk/flood-monitoring/def/core/downstageScale\n",
      "http://environment.data.gov.uk/flood-monitoring/def/core/gridReference\n",
      "http://environment.data.gov.uk/flood-monitoring/def/core/measures\n",
      "http://environment.data.gov.uk/flood-monitoring/def/core/parameter\n",
      "http://environment.data.gov.uk/flood-monitoring/def/core/parameterName\n",
      "http://environment.data.gov.uk/flood-monitoring/def/core/period\n",
      "http://environment.data.gov.uk/flood-monitoring/def/core/qualifier\n",
      "http://environment.data.gov.uk/flood-monitoring/def/core/riverName\n",
      "http://environment.data.gov.uk/flood-monitoring/def/core/stageScale\n",
      "http://environment.data.gov.uk/flood-monitoring/def/core/stationReference\n",
      "http://environment.data.gov.uk/flood-monitoring/def/core/status\n",
      "http://environment.data.gov.uk/flood-monitoring/def/core/town\n",
      "http://environment.data.gov.uk/flood-monitoring/def/core/unitName\n",
      "http://environment.data.gov.uk/flood-monitoring/def/core/wiskiID\n"
     ]
    }
   ],
   "source": [
    "from SPARQLWrapper import SPARQLWrapper, JSON\n",
    "\n",
    "sparql_query = \"\"\"\n",
    "PREFIX rt:<http://environment.data.gov.uk/flood-monitoring/def/core/>\n",
    "PREFIX rdfs:<http://www.w3.org/2000/01/rdf-schema#>\n",
    "PREFIX geo:<http://www.w3.org/2003/01/geo/wgs84_pos#>\n",
    "\n",
    "SELECT DISTINCT ?property \n",
    "FROM <http://environment.data.gov.uk/flood-monitoring/id/stations.rdf>\n",
    "#FROM <http://environment.data.gov.uk/flood-monitoring/id/measures.rdf>\n",
    "#FROM <http://environment.data.gov.uk/flood-monitoring/data/readings.rdf>\n",
    "WHERE {\n",
    "  ?s ?property ?o\n",
    "}\n",
    "\"\"\"\n",
    "# Assumes OpenLink Virtuoso sparql endpoint running locally at:\n",
    "sparql_endpoint = \"http://localhost:8890/sparql\"\n",
    "\n",
    "sparql = SPARQLWrapper(sparql_endpoint)\n",
    "sparql.setQuery(sparql_query)\n",
    "sparql.setReturnFormat(JSON)\n",
    "results = sparql.query().convert()\n",
    "for result in results[\"results\"][\"bindings\"]:\n",
    "    print (result[\"property\"][\"value\"])\n"
   ]
  },
  {
   "cell_type": "markdown",
   "metadata": {},
   "source": [
    "Discover all catchment areas in the Environment Agency datasets"
   ]
  },
  {
   "cell_type": "code",
   "execution_count": 21,
   "metadata": {
    "collapsed": true
   },
   "outputs": [
    {
     "name": "stdout",
     "output_type": "stream",
     "text": [
      "Adur and Ouse\n",
      "Aire and Calder\n",
      "Arun and Western Streams\n",
      "Ash (Herts)\n",
      "Ash (Middx)\n",
      "Beam and Ingrebourne\n",
      "Beane\n",
      "Bournes\n",
      "Brent\n",
      "Brent (Brooks)\n",
      "Bristol Avon Little Avon Axe and North Somerset St\n",
      "Broadland Rivers\n",
      "Cam and Ely Ouse (Including South Level)\n",
      "Cherwell Thame and Wye\n",
      "Colne (Lower)\n",
      "Colne (Upper)\n",
      "Cotswolds\n",
      "Crane\n",
      "Cuckmere and Pevensey Levels\n",
      "Cut\n",
      "Darent\n",
      "Dee\n",
      "Derbyshire Derwent\n",
      "Derwent\n",
      "Derwent West Cumbria and Duddon\n",
      "Don and Rother\n",
      "Dorset Stour\n",
      "Dove\n",
      "East Hampshire\n",
      "East Suffolk\n",
      "Eden and Esk\n",
      "England - East Coast\n",
      "England - South Coast\n",
      "England - West Coast\n",
      "Esk and Coast\n",
      "Essex\n",
      "Exe\n",
      "Fal and St Austell Streams\n",
      "Frome, Piddle, Poole Harbour and Purbeck\n",
      "Grimsby and Ancholme\n",
      "Hampshire Avon\n",
      "Hull and East Riding\n",
      "Idle and Torne\n",
      "Isle of Wight\n",
      "Loddon\n",
      "London\n",
      "Lower Lee\n",
      "Lower Mersey\n",
      "Lower Trent and Erewash\n",
      "Lune and Wyre\n",
      "Medway\n",
      "Mimram\n",
      "Mole\n",
      "Nene\n",
      "New Forest\n",
      "North Cornwall\n",
      "North Norfolk\n",
      "North West Norfolk\n",
      "Northern Manchester\n",
      "Northumberland Rivers\n",
      "Old Bedford including the Middle Level\n",
      "Otter, Sid, Axe and Lim\n",
      "Ouse\n",
      "Parrett, Brue and West Somerset Streams\n",
      "Pinn\n",
      "Rib\n",
      "Ribble Douglas and Crossens\n",
      "Rodding\n",
      "Rother\n",
      "Seaton, Looe and Fowey\n",
      "Severn Uplands\n",
      "Severn Vale\n",
      "Shropshire Middle Severn\n",
      "Soar\n",
      "South Cumbria\n",
      "Staffordshire Trent Valley\n",
      "Stort\n",
      "Stour\n",
      "Swale\n",
      "Swale, Ure, Nidd and Upper Ouse\n",
      "Tamar\n",
      "Tame Anker and Mease\n",
      "Taw and North Devon Streams\n",
      "Tees\n",
      "Teign Torbay and South Hams\n",
      "Teme\n",
      "Test and Itchen\n",
      "Thames from Hurley to Teddington\n",
      "Till\n",
      "Torridge and Hartland Streams\n",
      "Tyne\n",
      "Upper Lee\n",
      "Upper Mersey\n",
      "Upper and Bedford Ouse\n",
      "Vale of White Horse\n",
      "Warwickshire Avon\n",
      "Wear\n",
      "Weaver and Dane\n",
      "Welland\n",
      "West Cornwall\n",
      "West Dorset Streams\n",
      "Wey\n",
      "Wharfe and Lower Ouse\n",
      "Witham\n",
      "Worcestershire Middle Severn\n",
      "Wye\n"
     ]
    }
   ],
   "source": [
    "from SPARQLWrapper import SPARQLWrapper, JSON\n",
    "\n",
    "sparql_query = \"\"\"\n",
    "PREFIX rt:<http://environment.data.gov.uk/flood-monitoring/def/core/>\n",
    "\n",
    "SELECT DISTINCT ?catchmentName\n",
    "FROM <http://environment.data.gov.uk/flood-monitoring/id/stations.rdf>\n",
    "WHERE {\n",
    "  ?s rt:catchmentName ?catchmentName .\n",
    "}\n",
    "\"\"\"\n",
    "\n",
    "# Assumes OpenLink Virtuoso sparql endpoint running locally at:\n",
    "sparql_endpoint = \"http://localhost:8890/sparql\"\n",
    "\n",
    "sparql = SPARQLWrapper(sparql_endpoint)\n",
    "sparql.setQuery(sparql_query)\n",
    "sparql.setReturnFormat(JSON)\n",
    "results = sparql.query().convert()\n",
    "for result in results[\"results\"][\"bindings\"]:\n",
    "    print (result[\"catchmentName\"][\"value\"])\n"
   ]
  },
  {
   "cell_type": "markdown",
   "metadata": {},
   "source": [
    "Discover all monitoring stations in \"Lune and Wyre\" catchment area along with their latest readings (of any type)"
   ]
  },
  {
   "cell_type": "code",
   "execution_count": 22,
   "metadata": {
    "collapsed": true
   },
   "outputs": [
    {
     "name": "stdout",
     "output_type": "stream",
     "text": [
      "Abbeystead Reservoir, Abbeystead, -2.677098 53.978695, 0.069\n",
      "Garstang, Garstang, -2.779699 53.896103, 0.253\n",
      "Six Arches, Scorton, -2.770317 53.937868, 0.321\n",
      "A6 Bridge, Bilsborrow, -2.743276 53.858854, 0.198\n",
      "Roe Bridge, Myerscough, -2.790936 53.862594, 0.205\n",
      "St Michaels, St Michael's On Wyre, -2.817872 53.863761, 0.312\n",
      "Catterall, St Michael's On Wyre, -2.811986 53.866048, -1.927\n",
      "Catterall, St Michael's On Wyre, -2.811986 53.866048, 0.544\n",
      "Fleetwood, Fleetwood, -3.00474 53.926518, 297.0\n",
      "Fleetwood, Fleetwood, -3.00474 53.926518, 2.398\n",
      "Fleetwood, Fleetwood, -3.00474 53.926518, 1.142\n",
      "Preesall Pumping Station, Cockers Dyke, Pilling Lane, -2.955067 53.938698, 1.002\n",
      "Lunes Bridge, Tebay, -2.599286 54.420034, 0.376\n",
      "Killington, Killington, -2.582471 54.310113, 0.256\n",
      "Brigflats, Sedbergh, -2.555012 54.314107, 0.531\n",
      "Bentham Bridge, High Bentham, -2.510184 54.113463, 0.466\n",
      "Low Bentham, Low Bentham, -2.53947 54.118746, 0.593\n",
      "Wennington, Wennington, -2.589971 54.125115, 0.226\n",
      "Wray, Wray, -2.605757 54.105893, 0.192\n",
      "Hornby, Hornby, -2.63518 54.109696, 0.287\n",
      "Caton, Caton, -2.722026 54.081344, 0.402\n",
      "Burrow Beck, Lancaster, -2.780563 54.039446, 0.287\n",
      "Lancaster Quay, Lancaster, -2.822021 54.051851, 1.51\n",
      "Galgate, Galgate, -2.792162 53.991743, 0.169\n",
      "Pilling, Broadfleet, Pilling, -2.905476 53.932062, 0.629\n",
      "High River Keer, Capernwray, -2.731323 54.140607, 0.158\n"
     ]
    }
   ],
   "source": [
    "from SPARQLWrapper import SPARQLWrapper, JSON\n",
    "\n",
    "sparql_query = \"\"\"\n",
    "PREFIX rt:<http://environment.data.gov.uk/flood-monitoring/def/core/>\n",
    "PREFIX rdfs:<http://www.w3.org/2000/01/rdf-schema#>\n",
    "PREFIX geo:<http://www.w3.org/2003/01/geo/wgs84_pos#>\n",
    "\n",
    "SELECT ?label ?town ?lon ?lat ?s ?measures ?latestReading ?latestValue\n",
    "FROM <http://environment.data.gov.uk/flood-monitoring/id/stations.rdf>\n",
    "FROM <http://environment.data.gov.uk/flood-monitoring/id/measures.rdf>\n",
    "FROM <http://environment.data.gov.uk/flood-monitoring/data/readings.rdf>\n",
    "WHERE {\n",
    "  ?s rt:town ?town ;\n",
    "     geo:long ?lon ;\n",
    "     geo:lat ?lat ;\n",
    "     rt:catchmentName \"Lune and Wyre\" ; \n",
    "     rdfs:label ?label ;\n",
    "     rt:measures ?measures . \n",
    "     ?measures rt:latestReading ?latestReading . \n",
    "     ?latestReading rt:value ?latestValue .\n",
    "}\n",
    "\"\"\"\n",
    "\n",
    "# Assumes OpenLink Virtuoso sparql endpoint running locally at:\n",
    "sparql_endpoint = \"http://localhost:8890/sparql\"\n",
    "\n",
    "sparql = SPARQLWrapper(sparql_endpoint)\n",
    "sparql.setQuery(sparql_query)\n",
    "sparql.setReturnFormat(JSON)\n",
    "results = sparql.query().convert()\n",
    "for result in results[\"results\"][\"bindings\"]:\n",
    "    print(\"{}, {}, {} {}, {}\".format(result[\"label\"][\"value\"],\n",
    "                                 result[\"town\"][\"value\"],\n",
    "                                 result[\"lon\"][\"value\"],\n",
    "                                 result[\"lat\"][\"value\"],\n",
    "                                 result[\"latestValue\"][\"value\"]))\n"
   ]
  },
  {
   "cell_type": "markdown",
   "metadata": {},
   "source": [
    "Discover all monitoring stations in \"Eden and Esk\" catchment area along with their latest readings (of any type)"
   ]
  },
  {
   "cell_type": "code",
   "execution_count": 23,
   "metadata": {
    "collapsed": true
   },
   "outputs": [
    {
     "name": "stdout",
     "output_type": "stream",
     "text": [
      "Wiza Beck Storage Basin, Wigton, Wigton, -3.167142 54.817425, 0.054\n",
      "Station Road, Wigton, Wigton, -3.162746 54.827452, 0.226\n",
      "Silloth Docks, Silloth Docks, -3.394362 54.868007, 2.998\n",
      "Silloth Docks, Silloth Docks, -3.394362 54.868007, 248.0\n",
      "Silloth Docks, Silloth Docks, -3.394362 54.868007, 7.743\n",
      "Kirkby Stephen, Kirkby Stephen, -2.351872 54.482067, 0.111\n",
      "Great Musgrave Bridge, Great Musgrave, -2.364477 54.512818, 0.206\n",
      "Appleby, Appleby-In-Westmorland, -2.491631 54.579959, 0.087\n",
      "Temple Sowerby, Temple Sowerby, -2.614388 54.648336, 0.299\n",
      "Haweswater Reservoir, Haweswater Reservoir, -2.769772 54.534679, 29.55\n",
      "Burnbanks, Bampton, -2.762643 54.536126, 0.087\n",
      "Eamont Bridge, Beehive, River Lowther, Eamont Bridge, Beehive, River Lowther, -2.737527 54.649895, 0.396\n",
      "Glenridding Steamer Pier, Glenridding, -2.944347 54.554175, 0.518\n",
      "Steamer Pier, Pooley Bridge, Steamer Pier, Pooley Bridge, -2.82694 54.610449, 1.312\n",
      "Pooley Bridge, Pooley Bridge, -2.818572 54.616994, 0.288\n",
      "Eamont Bridge Farm, Eamont Bridge, -2.743236 54.651055, 0.301\n",
      "Dacre Bridge, Dacre, -2.837846 54.628797, 0.264\n",
      "Udford, Edenhall, -2.659359 54.667313, 0.138\n",
      "Great Corby, Wetheral, -2.830743 54.890119, 0.598\n",
      "Linstock, Linstock, -2.893015 54.912827, 0.303\n",
      "Sands Centre, Carlisle, Sands Centre, Carlisle, -2.932277 54.898639, 0.428\n",
      "Coalburn Beck, Butterburn, -2.481463 55.093478, 0.077\n",
      "Hynam Bridge, Castle Carrock, -2.686767 54.894613, 0.312\n",
      "Greenholme, Greenholme, -2.803045 54.914677, 0.302\n",
      "Harraby Green Business Park, Harraby Green Carlisle, -2.917974 54.879957, 0.384\n",
      "Melbourne Park Carlisle, Melbourne Park Carlisle, -2.913769 54.889748, 0.537\n",
      "Newbiggin Bridge, Carleton, -2.881322 54.853151, 0.496\n",
      "Botcherby Bridge, Carlisle, Botcherby, Carlisle, -2.910796 54.89341, 0.34\n",
      "Cummersdale, Cummersdale, -2.944447 54.865626, 0.347\n",
      "Denton Holme, Carlisle, -2.937513 54.885739, 0.198\n",
      "Sebergham, Sebergham, -2.993311 54.774406, 0.382\n",
      "Skew Bridge   Carlisle, Skew Bridge   Carlisle, -2.9382 54.891143, 0.357\n",
      "Sheepmount, Carlisle, -2.952852 54.90486, 0.704\n",
      "Stockdalewath, Stockdalewath, -2.954259 54.79619, 0.219\n",
      "White House Gardens, Penrith, White House Gardens, Penrith, -2.747001 54.661143, 0.233\n",
      "Watson Terrace, Townhead, Penrith, -2.757052 54.667281, 0.03\n",
      "Watson Terrace, Townhead, Penrith, -2.757052 54.667281, 0.031\n",
      "Thacka Beck Reservoir, Townhead, Penrith, -2.76746 54.668303, 0.056\n",
      "Cliff Bridge, Kirklinton, -2.920411 54.986798, 0.447\n",
      "Lochinvar storage basin, Longtown, Longtown, -2.963066 55.009258, 0.24\n",
      "Canonbie (SEPA Site), Canonbie, -2.946363 55.066848, 0.382\n"
     ]
    }
   ],
   "source": [
    "from SPARQLWrapper import SPARQLWrapper, JSON\n",
    "\n",
    "sparql_query = \"\"\"\n",
    "PREFIX rt:<http://environment.data.gov.uk/flood-monitoring/def/core/>\n",
    "PREFIX rdfs:<http://www.w3.org/2000/01/rdf-schema#>\n",
    "PREFIX geo:<http://www.w3.org/2003/01/geo/wgs84_pos#>\n",
    "\n",
    "SELECT ?label ?town ?lon ?lat ?s ?measures ?latestReading ?latestValue\n",
    "FROM <http://environment.data.gov.uk/flood-monitoring/id/stations.rdf>\n",
    "FROM <http://environment.data.gov.uk/flood-monitoring/id/measures.rdf>\n",
    "FROM <http://environment.data.gov.uk/flood-monitoring/data/readings.rdf>\n",
    "WHERE {\n",
    "  ?s rt:town ?town ;\n",
    "     geo:long ?lon ;\n",
    "     geo:lat ?lat ;\n",
    "     rt:catchmentName \"Eden and Esk\" ; \n",
    "     rdfs:label ?label ;\n",
    "     rt:measures ?measures . \n",
    "     ?measures rt:latestReading ?latestReading . \n",
    "     ?latestReading rt:value ?latestValue .\n",
    "}\n",
    "\"\"\"\n",
    "\n",
    "# Assumes OpenLink Virtuoso sparql endpoint running locally at:\n",
    "sparql_endpoint = \"http://localhost:8890/sparql\"\n",
    "\n",
    "sparql = SPARQLWrapper(sparql_endpoint)\n",
    "sparql.setQuery(sparql_query)\n",
    "sparql.setReturnFormat(JSON)\n",
    "results = sparql.query().convert()\n",
    "\n",
    "for result in results[\"results\"][\"bindings\"]:\n",
    "    print(\"{}, {}, {} {}, {}\".format(result[\"label\"][\"value\"],\n",
    "                                 result[\"town\"][\"value\"],\n",
    "                                 result[\"lon\"][\"value\"],\n",
    "                                 result[\"lat\"][\"value\"],\n",
    "                                 result[\"latestValue\"][\"value\"]))\n",
    "\n"
   ]
  },
  {
   "cell_type": "markdown",
   "metadata": {},
   "source": [
    "Discover all stations in \"Lune and Wyre\" catchment and plot locations on an OSM map using the Folium python package"
   ]
  },
  {
   "cell_type": "code",
   "execution_count": 24,
   "metadata": {
    "collapsed": true
   },
   "outputs": [
    {
     "data": {
      "text/html": [
       "<div style=\"width:100%;\"><div style=\"position:relative;width:100%;height:0;padding-bottom:60%;\"><iframe src=\"data:text/html;charset=utf-8;base64,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\" style=\"position:absolute;width:100%;height:100%;left:0;top:0;border:none !important;\" allowfullscreen webkitallowfullscreen mozallowfullscreen></iframe></div></div>"
      ],
      "text/plain": [
       "<folium.folium.Map at 0x1105a5400>"
      ]
     },
     "execution_count": 24,
     "metadata": {},
     "output_type": "execute_result"
    }
   ],
   "source": [
    "from SPARQLWrapper import SPARQLWrapper, JSON\n",
    "import folium\n",
    "\n",
    "sparql_query = \"\"\"\n",
    "PREFIX rt:<http://environment.data.gov.uk/flood-monitoring/def/core/>\n",
    "PREFIX rdfs:<http://www.w3.org/2000/01/rdf-schema#>\n",
    "PREFIX geo:<http://www.w3.org/2003/01/geo/wgs84_pos#>\n",
    "\n",
    "SELECT ?label ?town ?lon ?lat ?s ?measures ?latestReading ?latestValue\n",
    "FROM <http://environment.data.gov.uk/flood-monitoring/id/stations.rdf>\n",
    "FROM <http://environment.data.gov.uk/flood-monitoring/id/measures.rdf>\n",
    "FROM <http://environment.data.gov.uk/flood-monitoring/data/readings.rdf>\n",
    "WHERE {\n",
    "  ?s rt:town ?town ;\n",
    "     geo:long ?lon ;\n",
    "     geo:lat ?lat ;\n",
    "     rt:catchmentName \"Lune and Wyre\" ; \n",
    "     rdfs:label ?label ;\n",
    "     rt:measures ?measures . \n",
    "     ?measures rt:latestReading ?latestReading . \n",
    "     ?latestReading rt:value ?latestValue .\n",
    "}\n",
    "\"\"\"\n",
    "\n",
    "# Assumes OpenLink Virtuoso sparql endpoint running locally at:\n",
    "sparql_endpoint = \"http://localhost:8890/sparql\"\n",
    "\n",
    "sparql = SPARQLWrapper(sparql_endpoint)\n",
    "sparql.setQuery(sparql_query)\n",
    "sparql.setReturnFormat(JSON)\n",
    "results = sparql.query().convert()\n",
    "\n",
    "map_osm = folium.Map(location=[54.045675,-2.8009287])\n",
    "for result in results[\"results\"][\"bindings\"]:\n",
    "    folium.Marker(location=[result[\"lat\"][\"value\"],\n",
    "                  result[\"lon\"][\"value\"]], \n",
    "                  popup=result[\"label\"][\"value\"]).add_to(map_osm)\n",
    "map_osm\n"
   ]
  },
  {
   "cell_type": "markdown",
   "metadata": {},
   "source": [
    "Draw boundary polygon on map to discover all monitoring stations within the boundary shape using the Environment Agency API endpoints. Uses the Ipyleaflet python package"
   ]
  },
  {
   "cell_type": "code",
   "execution_count": 33,
   "metadata": {},
   "outputs": [
    {
     "data": {
      "application/vnd.jupyter.widget-view+json": {
       "model_id": "676c2318e5fe48f3bf5f41d9100ac391"
      }
     },
     "metadata": {},
     "output_type": "display_data"
    }
   ],
   "source": [
    "from SPARQLWrapper import SPARQLWrapper, JSON\n",
    "from ipyleaflet import (\n",
    "    Map,\n",
    "    Marker,\n",
    "    TileLayer, ImageOverlay,\n",
    "    Polyline, Polygon, Rectangle, Circle, CircleMarker,\n",
    "    GeoJSON,\n",
    "    DrawControl\n",
    ")\n",
    "from traitlets import link\n",
    "\n",
    "def wkt_convert(c):\n",
    "    return str(c[0]) + \" \" + str(c[1])\n",
    "\n",
    "def handle_draw(self, action, geo_json):\n",
    "    global m\n",
    "    coords = geo_json['geometry']['coordinates'][0]\n",
    "    wkt = \"POLYGON((%s \" % ', '.join(map(wkt_convert, coords)) + \"))\"\n",
    "    sparql_query = \"\"\"\n",
    "            PREFIX rt:<http://environment.data.gov.uk/flood-monitoring/def/core/>\n",
    "            PREFIX rdfs:<http://www.w3.org/2000/01/rdf-schema#>\n",
    "            PREFIX geo:<http://www.w3.org/2003/01/geo/wgs84_pos#>\n",
    "\n",
    "            SELECT ?label ?town ?lon ?lat ?s \n",
    "            FROM <http://environment.data.gov.uk/flood-monitoring/id/stations.rdf>\n",
    "            FROM <http://environment.data.gov.uk/flood-monitoring/id/measures.rdf>\n",
    "            FROM <http://environment.data.gov.uk/flood-monitoring/data/readings.rdf>\n",
    "            WHERE {{\n",
    "                ?s rt:town ?town ;\n",
    "                   geo:long ?lon ;\n",
    "                   geo:lat ?lat ; \n",
    "                   rdfs:label ?label .\n",
    "                 FILTER( bif:st_intersects( bif:st_point(?lon, ?lat), bif:st_geomfromtext({}),0.0)) .\n",
    "            }}\n",
    "    \"\"\".format(\"\\\"{}\\\"\".format(wkt))\n",
    "    \n",
    "    # Assumes OpenLink Virtuoso sparql endpoint running locally at:\n",
    "    sparql_endpoint = \"http://localhost:8890/sparql\"\n",
    "\n",
    "    sparql = SPARQLWrapper(sparql_endpoint)\n",
    "    sparql.setQuery(sparql_query)\n",
    "    sparql.setReturnFormat(JSON)\n",
    "    results = sparql.query().convert()\n",
    "    for result in results[\"results\"][\"bindings\"]:\n",
    "        mark = Marker(location=[result['lat']['value'], result['lon']['value']], title=result['town']['value'])\n",
    "        m.add_layer(mark)\n",
    "\n",
    "center = [54.047186,-2.801706]\n",
    "zoom = 10\n",
    "m = Map(default_tiles=TileLayer(opacity=1.0), center=center, zoom=zoom)\n",
    "dc = DrawControl()\n",
    "dc.on_draw(handle_draw)\n",
    "m.add_control(dc)\n",
    "m"
   ]
  },
  {
   "cell_type": "markdown",
   "metadata": {},
   "source": [
    "Demonstrates a federated query making use of a remote SPARQL endpoint. \n",
    "Discover all dbpedia places within 0.5km of geospatial point and plot on osm map"
   ]
  },
  {
   "cell_type": "code",
   "execution_count": 36,
   "metadata": {
    "collapsed": true
   },
   "outputs": [
    {
     "data": {
      "text/html": [
       "<div style=\"width:100%;\"><div style=\"position:relative;width:100%;height:0;padding-bottom:60%;\"><iframe src=\"data:text/html;charset=utf-8;base64,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\" style=\"position:absolute;width:100%;height:100%;left:0;top:0;border:none !important;\" allowfullscreen webkitallowfullscreen mozallowfullscreen></iframe></div></div>"
      ],
      "text/plain": [
       "<folium.folium.Map at 0x111a5f198>"
      ]
     },
     "execution_count": 36,
     "metadata": {},
     "output_type": "execute_result"
    }
   ],
   "source": [
    "from SPARQLWrapper import SPARQLWrapper, JSON\n",
    "import folium\n",
    "\n",
    "sparql_query = \"\"\"\n",
    "SELECT DISTINCT ?resource ?label ?long ?lat\n",
    "WHERE \n",
    "{ \n",
    "    SERVICE <http://dbpedia.org/sparql>\n",
    "    {\n",
    "        ?resource geo:geometry ?location ;\n",
    "                  rdfs:label ?label . \n",
    "        FILTER( bif:st_intersects( ?location, bif:st_point(-2.8009287, 54.045675), 0.5)) .\n",
    "        BIND(bif:st_x(?location) AS ?long) .\n",
    "        BIND(bif:st_y(?location) AS ?lat) .\n",
    "    }\n",
    "}\n",
    "\"\"\"\n",
    "\n",
    "# Assumes OpenLink Virtuoso sparql endpoint running locally at:\n",
    "sparql_endpoint = \"http://localhost:8890/sparql\"\n",
    "\n",
    "sparql = SPARQLWrapper(sparql_endpoint)\n",
    "sparql.setQuery(sparql_query)\n",
    "sparql.setReturnFormat(JSON)\n",
    "results = sparql.query().convert()\n",
    "\n",
    "map_osm = folium.Map(location=[54.045675,-2.8009287])\n",
    "for result in results[\"results\"][\"bindings\"]:\n",
    "    folium.Marker(location=[result[\"lat\"][\"value\"],\n",
    "                  result[\"long\"][\"value\"]], \n",
    "                  popup=result[\"label\"][\"value\"]).add_to(map_osm)\n",
    "map_osm\n"
   ]
  },
  {
   "cell_type": "markdown",
   "metadata": {},
   "source": [
    "Demonstrates a federated query making use of a remote SPARQL endpoint. \n",
    "Discover all dbpedia places within a drawn polygon bounding area and plot on osm map"
   ]
  },
  {
   "cell_type": "code",
   "execution_count": 37,
   "metadata": {},
   "outputs": [
    {
     "data": {
      "application/vnd.jupyter.widget-view+json": {
       "model_id": "d38a9b9591944273a499d942e235b436"
      }
     },
     "metadata": {},
     "output_type": "display_data"
    }
   ],
   "source": [
    "\n",
    "from SPARQLWrapper import SPARQLWrapper, JSON\n",
    "from ipyleaflet import (\n",
    "    Map,\n",
    "    Marker,\n",
    "    TileLayer, ImageOverlay,\n",
    "    Polyline, Polygon, Rectangle, Circle, CircleMarker,\n",
    "    GeoJSON,\n",
    "    DrawControl\n",
    ")\n",
    "from traitlets import link\n",
    "\n",
    "def wkt_convert(c):\n",
    "    return str(c[0]) + \" \" + str(c[1])\n",
    "\n",
    "def handle_draw(self, action, geo_json):\n",
    "    global m\n",
    "    coords = geo_json['geometry']['coordinates'][0]\n",
    "    wkt = \"POLYGON((%s \" % ', '.join(map(wkt_convert, coords)) + \"))\"\n",
    "    sparql_query = \"\"\"\n",
    "                    SELECT DISTINCT ?resource ?label ?long ?lat\n",
    "                    WHERE \n",
    "                    {{ \n",
    "                        SERVICE <http://dbpedia.org/sparql>\n",
    "                        {{\n",
    "                                ?resource geo:geometry ?location ;\n",
    "                                          rdfs:label ?label . \n",
    "                                FILTER( bif:st_intersects( ?location, bif:st_geomfromtext({}),0.0)) .\n",
    "                                FILTER (lang(?label) = 'en') .\n",
    "                                BIND(bif:st_x(?location) AS ?long) .\n",
    "                                BIND(bif:st_y(?location) AS ?lat) .\n",
    "                        }}\n",
    "                    }}\n",
    "                    \"\"\".format(\"\\\"{}\\\"\".format(wkt))\n",
    "    \n",
    "    # Assumes OpenLink Virtuoso sparql endpoint running locally at:\n",
    "    sparql_endpoint = \"http://localhost:8890/sparql\"\n",
    "\n",
    "    sparql = SPARQLWrapper(sparql_endpoint)\n",
    "    sparql.setQuery(sparql_query)\n",
    "    sparql.setReturnFormat(JSON)\n",
    "    results = sparql.query().convert()\n",
    "    for result in results[\"results\"][\"bindings\"]:\n",
    "        mark = Marker(location=[result['lat']['value'], result['long']['value']], title=result['label']['value'])\n",
    "        m.add_layer(mark)\n",
    "\n",
    "center = [54.047186,-2.801706]\n",
    "zoom = 15\n",
    "m = Map(default_tiles=TileLayer(opacity=1.0), center=center, zoom=zoom)\n",
    "dc = DrawControl()\n",
    "dc.on_draw(handle_draw)\n",
    "m.add_control(dc)\n",
    "m"
   ]
  }
 ],
 "metadata": {
  "kernelspec": {
   "display_name": "Python 3",
   "language": "python",
   "name": "python3"
  },
  "language_info": {
   "codemirror_mode": {
    "name": "ipython",
    "version": 3
   },
   "file_extension": ".py",
   "mimetype": "text/x-python",
   "name": "python",
   "nbconvert_exporter": "python",
   "pygments_lexer": "ipython3",
   "version": "3.6.1"
  }
 },
 "nbformat": 4,
 "nbformat_minor": 2
}
