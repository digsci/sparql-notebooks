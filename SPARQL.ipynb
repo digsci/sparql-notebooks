{
 "cells": [
  {
   "cell_type": "markdown",
   "metadata": {
    "collapsed": true
   },
   "source": [
    "### Examples of SPARQL queries using the SPARQL Jupyter kernel\n",
    "##### Dependencies\n",
    "[OpenLink Virtuoso SPARQL Processor](https://virtuoso.openlinksw.com)<br>\n",
    "[SPARQL Jupyter Kernel](https://github.com/paulovn/sparql-kernel)"
   ]
  },
  {
   "cell_type": "markdown",
   "metadata": {},
   "source": [
    "### Example 1\n",
    "The *%endpoint* magic provides for setting of a SPARQL endpoint."
   ]
  },
  {
   "cell_type": "code",
   "execution_count": null,
   "metadata": {},
   "outputs": [],
   "source": [
    "%endpoint http://scc-dean1.lancs.ac.uk:8890/sparql"
   ]
  },
  {
   "cell_type": "markdown",
   "metadata": {},
   "source": [
    "### Example 2\n",
    "Discover all monitoring stations in \"Lune and Wyre\" catchment area along and display the *rt:town, rdfs:label, geo:long, geo:lat, rt:measures and rt:latestReading* property values."
   ]
  },
  {
   "cell_type": "code",
   "execution_count": null,
   "metadata": {},
   "outputs": [],
   "source": [
    "PREFIX rt:<http://environment.data.gov.uk/flood-monitoring/def/core/>\n",
    "PREFIX rdfs:<http://www.w3.org/2000/01/rdf-schema#>\n",
    "PREFIX geo:<http://www.w3.org/2003/01/geo/wgs84_pos#>\n",
    "\n",
    "SELECT ?label ?town ?lon ?lat ?measures ?latestValue\n",
    "FROM <http://environment.data.gov.uk/flood-monitoring/id/stations.rdf>\n",
    "FROM <http://environment.data.gov.uk/flood-monitoring/id/measures.rdf>\n",
    "FROM <http://environment.data.gov.uk/flood-monitoring/data/readings.rdf>\n",
    "WHERE \n",
    "{\n",
    "  ?s rt:town ?town ;\n",
    "     geo:long ?lon ;\n",
    "     geo:lat ?lat ;\n",
    "     rt:catchmentName \"Lune and Wyre\" ; \n",
    "     rdfs:label ?label ;\n",
    "     rt:measures ?measures . \n",
    "     ?measures rt:latestReading ?latestReading . \n",
    "     ?latestReading rt:value ?latestValue .\n",
    "}"
   ]
  },
  {
   "cell_type": "markdown",
   "metadata": {},
   "source": [
    "### Example 3\n",
    "Find the \"Morecambe North\" and \"Morecambe South\" Bathing Water Quality (BWQ) stations using the Environment Agency BWQ endpoint and the *rdfs:label* property."
   ]
  },
  {
   "cell_type": "code",
   "execution_count": null,
   "metadata": {},
   "outputs": [],
   "source": [
    "%endpoint http://environment.data.gov.uk/sparql/bwq/query"
   ]
  },
  {
   "cell_type": "code",
   "execution_count": null,
   "metadata": {},
   "outputs": [],
   "source": [
    "PREFIX bw: <http://environment.data.gov.uk/def/bathing-water/>\n",
    "PREFIX bwq: <http://environment.data.gov.uk/def/bathing-water-quality/>\n",
    "PREFIX ef-sp: <http://location.data.gov.uk/def/ef/SamplingPoint/>\n",
    "PREFIX interval: <http://reference.data.gov.uk/def/intervals/>\n",
    "PREFIX stats: <http://statistics.data.gov.uk/def/administrative-geography/>\n",
    "PREFIX sr: <http://data.ordnancesurvey.co.uk/ontology/spatialrelations/>\n",
    "PREFIX rdf: <http://www.w3.org/1999/02/22-rdf-syntax-ns#>\n",
    "PREFIX rdfs: <http://www.w3.org/2000/01/rdf-schema#>\n",
    "PREFIX owl: <http://www.w3.org/2002/07/owl#>\n",
    "PREFIX xsd: <http://www.w3.org/2001/XMLSchema#>\n",
    "\n",
    "SELECT ?s\n",
    "WHERE \n",
    "{\n",
    "  { ?s rdfs:label \"Morecambe North\"@en . }\n",
    "  UNION\n",
    "  { ?s rdfs:label \"Morecambe South\"@en . }\n",
    "}\n"
   ]
  },
  {
   "cell_type": "markdown",
   "metadata": {},
   "source": [
    "### Example 4\n",
    "Discover any BWQ stations with Morecambe in their name using the *rdfs:label* property and a regular expression filter."
   ]
  },
  {
   "cell_type": "code",
   "execution_count": null,
   "metadata": {},
   "outputs": [],
   "source": [
    "%endpoint http://environment.data.gov.uk/sparql/bwq/query"
   ]
  },
  {
   "cell_type": "code",
   "execution_count": null,
   "metadata": {},
   "outputs": [],
   "source": [
    "prefix bw: <http://environment.data.gov.uk/def/bathing-water/>\n",
    "prefix bwq: <http://environment.data.gov.uk/def/bathing-water-quality/>\n",
    "prefix ef-sp: <http://location.data.gov.uk/def/ef/SamplingPoint/>\n",
    "prefix interval: <http://reference.data.gov.uk/def/intervals/>\n",
    "prefix stats: <http://statistics.data.gov.uk/def/administrative-geography/>\n",
    "prefix sr: <http://data.ordnancesurvey.co.uk/ontology/spatialrelations/>\n",
    "prefix rdf: <http://www.w3.org/1999/02/22-rdf-syntax-ns#>\n",
    "prefix rdfs: <http://www.w3.org/2000/01/rdf-schema#>\n",
    "prefix owl: <http://www.w3.org/2002/07/owl#>\n",
    "prefix xsd: <http://www.w3.org/2001/XMLSchema#>\n",
    "prefix geo: <http://www.w3.org/2003/01/geo/wgs84_pos#>\n",
    "\n",
    "select ?label ?lat ?lon\n",
    "where\n",
    "{ ?o ef-sp:samplingPoint ?sp .\n",
    "  ?sp geo:lat ?lat .\n",
    "  ?sp geo:long ?lon .\n",
    "  { select ?o ?label\n",
    "    where {\n",
    "      ?o a bw:BathingWater ;\n",
    "         rdfs:label ?label .\n",
    "      filter regex(?label, \"morecambe\", \"i\")\n",
    "    }\n",
    "  }\n",
    "}"
   ]
  },
  {
   "cell_type": "markdown",
   "metadata": {},
   "source": [
    "### Example 5\n",
    "Discover DBpedia information about any resources within 20km of New York City and display the *rdfs:label* \" English language property value."
   ]
  },
  {
   "cell_type": "code",
   "execution_count": null,
   "metadata": {},
   "outputs": [],
   "source": [
    "%endpoint http://dbpedia.org/sparql"
   ]
  },
  {
   "cell_type": "code",
   "execution_count": null,
   "metadata": {},
   "outputs": [],
   "source": [
    "SELECT DISTINCT ?resource \n",
    "WHERE \n",
    "  { \n",
    "    <http://dbpedia.org/resource/New_York_City> geo:geometry ?sourcegeo . \n",
    "    ?resource geo:geometry ?location ; \n",
    "                                 rdfs:label ?label . \n",
    "    FILTER( bif:st_intersects( ?location, ?sourcegeo, 20 ) ) . \n",
    "    FILTER( lang( ?label ) = \"en\" ) \n",
    "  }"
   ]
  },
  {
   "cell_type": "markdown",
   "metadata": {},
   "source": [
    "### Example 6\n",
    "Discover DBpedia information about any resources within 5km of Lancaster using a federated query using the *http://dbpedia.org/sparql* service."
   ]
  },
  {
   "cell_type": "code",
   "execution_count": null,
   "metadata": {},
   "outputs": [],
   "source": [
    "%endpoint http://scc-dean1.lancs.ac.uk:8890/sparql"
   ]
  },
  {
   "cell_type": "code",
   "execution_count": null,
   "metadata": {},
   "outputs": [],
   "source": [
    "SELECT DISTINCT ?resource ?location\n",
    "WHERE \n",
    "{ \n",
    "    SERVICE <http://dbpedia.org/sparql>\n",
    "    {\n",
    "        ?resource geo:geometry ?location ;\n",
    "                  rdfs:label ?label . \n",
    "        FILTER( bif:st_intersects( ?location, bif:st_point(-2.78555560112, 54.010276794434), 5)) .\n",
    "    }\n",
    "}"
   ]
  },
  {
   "cell_type": "markdown",
   "metadata": {},
   "source": [
    "### Example 7\n",
    "Explore Virtuoso geospatial reasoning capabilities and display output in N3 format. The example finds upto 10 locations within a boundary defined by a polygon."
   ]
  },
  {
   "cell_type": "code",
   "execution_count": null,
   "metadata": {},
   "outputs": [],
   "source": [
    "%format N3"
   ]
  },
  {
   "cell_type": "code",
   "execution_count": null,
   "metadata": {},
   "outputs": [],
   "source": [
    "SELECT DISTINCT ?resource ?label ?long ?lat\n",
    "WHERE \n",
    "{ \n",
    "    SERVICE <http://dbpedia.org/sparql>\n",
    "    {\n",
    "        ?resource geo:geometry ?location ;\n",
    "                  rdfs:label ?label . \n",
    "        FILTER( bif:st_within( ?location, bif:st_geomfromtext(\"POLYGON((-2.980620861053467 54.10704331093268, -2.685363292694092 54.07563161821085, -2.708709239959717 53.979638627170516, -2.9559016227722164 54.00063080536647, -2.980620861053467 54.10704331093268 ))\"))) .\n",
    "        BIND(bif:st_x(?location) AS ?long) .\n",
    "        BIND(bif:st_y(?location) AS ?lat) .\n",
    "    }\n",
    "}\n",
    "LIMIT 10"
   ]
  },
  {
   "cell_type": "markdown",
   "metadata": {},
   "source": [
    "### Example 8\n",
    "Find monitoring stations within 10km of a geospatial point using the Environment Agency Flood Monitoring APIs."
   ]
  },
  {
   "cell_type": "code",
   "execution_count": null,
   "metadata": {},
   "outputs": [],
   "source": [
    "PREFIX rt:<http://environment.data.gov.uk/flood-monitoring/def/core/>\n",
    "PREFIX rdfs:<http://www.w3.org/2000/01/rdf-schema#>\n",
    "PREFIX geo:<http://www.w3.org/2003/01/geo/wgs84_pos#>\n",
    "\n",
    "SELECT ?label ?town ?lon ?lat ?s \n",
    "FROM <http://environment.data.gov.uk/flood-monitoring/id/stations.rdf>\n",
    "FROM <http://environment.data.gov.uk/flood-monitoring/id/measures.rdf>\n",
    "FROM <http://environment.data.gov.uk/flood-monitoring/data/readings.rdf>\n",
    "WHERE {\n",
    "  ?s rt:town ?town ;\n",
    "     geo:long ?lon ;\n",
    "     geo:lat ?lat ; \n",
    "     rdfs:label ?label .\n",
    "     FILTER( bif:st_intersects(bif:st_point(?lon, ?lat), bif:st_point(-2.78555560112, 54.010276794434), 10.0)) .\n",
    "}"
   ]
  }
 ],
 "metadata": {
  "kernelspec": {
   "display_name": "SPARQL",
   "language": "",
   "name": "sparql"
  },
  "language_info": {
   "codemirror_mode": {
    "name": "sparql"
   },
   "mimetype": "application/sparql-query",
   "name": "sparql",
   "pygments_lexer": "sparql-nb"
  }
 },
 "nbformat": 4,
 "nbformat_minor": 2
}
