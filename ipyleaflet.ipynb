{
 "cells": [
  {
   "cell_type": "markdown",
   "metadata": {},
   "source": [
    "Draw boundary polygon on map to discover all DBpedia resources within the boundary shape using a federated search. Uses the ipyleaflet python package."
   ]
  },
  {
   "cell_type": "code",
   "execution_count": null,
   "metadata": {},
   "outputs": [],
   "source": [
    "from SPARQLWrapper import SPARQLWrapper, JSON\n",
    "from ipyleaflet import (\n",
    "    Map,\n",
    "    Marker,\n",
    "    TileLayer, ImageOverlay,\n",
    "    Polyline, Polygon, Rectangle, Circle, CircleMarker,\n",
    "    GeoJSON,\n",
    "    DrawControl\n",
    ")\n",
    "from traitlets import link\n",
    "\n",
    "def wkt_convert(c):\n",
    "    return str(c[0]) + \" \" + str(c[1])\n",
    "\n",
    "def handle_draw(self, action, geo_json):\n",
    "    global m\n",
    "    coords = geo_json['geometry']['coordinates'][0]\n",
    "    wkt = \"POLYGON((%s \" % ', '.join(map(wkt_convert, coords)) + \"))\"\n",
    "    sparql_query = \"\"\"\n",
    "                    SELECT DISTINCT ?resource ?label ?long ?lat\n",
    "                    WHERE \n",
    "                    {{ \n",
    "                        SERVICE <http://dbpedia.org/sparql>\n",
    "                        {{\n",
    "                                ?resource geo:geometry ?location ;\n",
    "                                          rdfs:label ?label . \n",
    "                                FILTER( bif:st_intersects( ?location, bif:st_geomfromtext({}),0.0)) .\n",
    "                                FILTER (lang(?label) = 'en') .\n",
    "                                BIND(bif:st_x(?location) AS ?long) .\n",
    "                                BIND(bif:st_y(?location) AS ?lat) .\n",
    "                        }}\n",
    "                    }}\n",
    "                    \"\"\".format(\"\\\"{}\\\"\".format(wkt))\n",
    "    \n",
    "    # Assumes OpenLink Virtuoso sparql endpoint running locally at:\n",
    "    sparql_endpoint = \"http://localhost:8890/sparql\"\n",
    "\n",
    "    sparql = SPARQLWrapper(sparql_endpoint)\n",
    "    sparql.setQuery(sparql_query)\n",
    "    sparql.setReturnFormat(JSON)\n",
    "    results = sparql.query().convert()\n",
    "    for result in results[\"results\"][\"bindings\"]:\n",
    "        mark = Marker(location=[result['lat']['value'], result['long']['value']], title=result['label']['value'])\n",
    "        m.add_layer(mark)\n",
    "\n",
    "center = [54.047186,-2.801706]\n",
    "zoom = 15\n",
    "m = Map(default_tiles=TileLayer(opacity=1.0), center=center, zoom=zoom)\n",
    "dc = DrawControl()\n",
    "dc.on_draw(handle_draw)\n",
    "m.add_control(dc)\n",
    "m"
   ]
  },
  {
   "cell_type": "code",
   "execution_count": null,
   "metadata": {
    "collapsed": true
   },
   "outputs": [],
   "source": []
  }
 ],
 "metadata": {
  "kernelspec": {
   "display_name": "Python 3",
   "language": "python",
   "name": "python3"
  },
  "language_info": {
   "codemirror_mode": {
    "name": "ipython",
    "version": 3
   },
   "file_extension": ".py",
   "mimetype": "text/x-python",
   "name": "python",
   "nbconvert_exporter": "python",
   "pygments_lexer": "ipython3",
   "version": "3.6.1"
  }
 },
 "nbformat": 4,
 "nbformat_minor": 2
}
